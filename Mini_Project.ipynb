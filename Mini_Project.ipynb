{
  "nbformat": 4,
  "nbformat_minor": 0,
  "metadata": {
    "colab": {
      "name": "Mini Project.ipynb",
      "provenance": [],
      "collapsed_sections": [],
      "authorship_tag": "ABX9TyOJNlDBNRnwPepH3AMcHGGV",
      "include_colab_link": true
    },
    "kernelspec": {
      "name": "python3",
      "display_name": "Python 3"
    },
    "language_info": {
      "name": "python"
    }
  },
  "cells": [
    {
      "cell_type": "markdown",
      "metadata": {
        "id": "view-in-github",
        "colab_type": "text"
      },
      "source": [
        "<a href=\"https://colab.research.google.com/github/staroIR11/Dataset/blob/main/Mini_Project.ipynb\" target=\"_parent\"><img src=\"https://colab.research.google.com/assets/colab-badge.svg\" alt=\"Open In Colab\"/></a>"
      ]
    },
    {
      "cell_type": "markdown",
      "source": [
        "#Prediction using LSTM for Nellai Biscuit Suppliers"
      ],
      "metadata": {
        "id": "Wn-PNP5ujDSr"
      }
    },
    {
      "cell_type": "markdown",
      "source": [
        "Part 1"
      ],
      "metadata": {
        "id": "ibo8XvORDJn7"
      }
    },
    {
      "cell_type": "markdown",
      "source": [
        "Finding the Total Net Income amount of sales for the next 17 days based on previous 31 days income"
      ],
      "metadata": {
        "id": "4HhHceIiC_Bl"
      }
    },
    {
      "cell_type": "markdown",
      "source": [
        "#importing essential libraries"
      ],
      "metadata": {
        "id": "YOmWcv8bixHI"
      }
    },
    {
      "cell_type": "code",
      "source": [
        "\n",
        "import numpy as np\n",
        "from tensorflow.keras.models import Sequential\n",
        "from tensorflow.keras.layers import LSTM\n",
        "from tensorflow.keras.layers import Dense\n",
        "from tensorflow.keras.layers import Flatten"
      ],
      "metadata": {
        "id": "vOgcVY2ggQ9V"
      },
      "execution_count": 19,
      "outputs": []
    },
    {
      "cell_type": "markdown",
      "source": [
        "# Preparing independent and dependent features"
      ],
      "metadata": {
        "id": "Fjr8qmUii2pj"
      }
    },
    {
      "cell_type": "code",
      "source": [
        "# Preparing independent and dependent features\n",
        "def prepare_data(timeseries_data, n_features):\n",
        "\tX, y =[],[]\n",
        "\tfor i in range(len(timeseries_data)):\n",
        "\t\t# find the end of this pattern\n",
        "\t\tend_ix = i + n_features\n",
        "\t\t# check if we are beyond the sequence\n",
        "\t\tif end_ix > len(timeseries_data)-1:\n",
        "\t\t\tbreak\n",
        "\t\t# gather input and output parts of the pattern\n",
        "\t\tseq_x, seq_y = timeseries_data[i:end_ix], timeseries_data[end_ix]\n",
        "\t\tX.append(seq_x)\n",
        "\t\ty.append(seq_y)\n",
        "\treturn np.array(X), np.array(y)"
      ],
      "metadata": {
        "id": "XSxAMTiFgTfN"
      },
      "execution_count": 20,
      "outputs": []
    },
    {
      "cell_type": "code",
      "source": [
        "import pandas as pd\n",
        "df=pd.read_excel('/content/duta.xlsx')"
      ],
      "metadata": {
        "id": "_DRI-eowg9Js"
      },
      "execution_count": 21,
      "outputs": []
    },
    {
      "cell_type": "markdown",
      "source": [
        "# label_encoder object knows how to understand word labels."
      ],
      "metadata": {
        "id": "Cyj6n4RcjAJ7"
      }
    },
    {
      "cell_type": "code",
      "source": [
        "from sklearn import preprocessing\n",
        "  \n",
        "\n",
        "label_encoder = preprocessing.LabelEncoder()\n",
        "  \n",
        "# Encode labels in column 'Invoice Date'.\n",
        "df['Invoice Date']= label_encoder.fit_transform(df['Invoice Date'])\n",
        "  \n",
        "df['Invoice Date'].unique()"
      ],
      "metadata": {
        "colab": {
          "base_uri": "https://localhost:8080/"
        },
        "id": "KRMTfTz6r4DV",
        "outputId": "77e4687a-7f6b-434c-960a-915e6a8bcd3b"
      },
      "execution_count": 22,
      "outputs": [
        {
          "output_type": "execute_result",
          "data": {
            "text/plain": [
              "array([ 0,  1,  2,  3,  4,  5,  6,  7,  8,  9, 10, 11, 12, 13, 14, 15, 16,\n",
              "       17, 18, 19, 20, 21, 22, 23, 24, 25, 26, 27, 28, 29, 30])"
            ]
          },
          "metadata": {},
          "execution_count": 22
        }
      ]
    },
    {
      "cell_type": "code",
      "source": [
        "df['Invoice Date'].unique()"
      ],
      "metadata": {
        "colab": {
          "base_uri": "https://localhost:8080/"
        },
        "id": "poL58jkOnrfz",
        "outputId": "b38adb2d-9363-40fe-9795-3e4cd558cf3f"
      },
      "execution_count": 23,
      "outputs": [
        {
          "output_type": "execute_result",
          "data": {
            "text/plain": [
              "array([ 0,  1,  2,  3,  4,  5,  6,  7,  8,  9, 10, 11, 12, 13, 14, 15, 16,\n",
              "       17, 18, 19, 20, 21, 22, 23, 24, 25, 26, 27, 28, 29, 30])"
            ]
          },
          "metadata": {},
          "execution_count": 23
        }
      ]
    },
    {
      "cell_type": "code",
      "source": [
        "df.head(30)"
      ],
      "metadata": {
        "colab": {
          "base_uri": "https://localhost:8080/",
          "height": 990
        },
        "id": "7mzreP-epnKt",
        "outputId": "63a578b2-9106-42b0-f118-6e422327551c"
      },
      "execution_count": 25,
      "outputs": [
        {
          "output_type": "execute_result",
          "data": {
            "text/plain": [
              "       Brand Desc  Invoice Date  Invoice Qty  Net Amount  \\\n",
              "0      Milk Bikis             0         90.0      409.09   \n",
              "1           50-50             0         24.0      109.09   \n",
              "2   Tiger Glucose             0         48.0      131.14   \n",
              "3        Good Day             0         24.0      109.09   \n",
              "4    Tiger Creams             0         12.0       53.58   \n",
              "5      Milk Bikis             0         24.0      218.58   \n",
              "6      Milk Bikis             0         24.0      218.58   \n",
              "7      Milk Bikis             0          6.0       54.65   \n",
              "8         Bourbon             0          6.0       54.65   \n",
              "9           Treat             0          6.0       54.65   \n",
              "10          50-50             0         12.0      109.30   \n",
              "11       Good Day             0         24.0      109.09   \n",
              "12     Marie Gold             0         36.0      162.16   \n",
              "13     Milk Bikis             0         90.0      409.09   \n",
              "14     Milk Bikis             0         61.0      555.55   \n",
              "15  Tiger Glucose             0         72.0      196.71   \n",
              "16   Tiger Krunch             0         14.0       62.51   \n",
              "17   Tiger Krunch             0         10.0       44.63   \n",
              "18          50-50             0         12.0       54.55   \n",
              "19          50-50             0          6.0       54.65   \n",
              "20       Good Day             0          6.0       54.71   \n",
              "21     Marie Gold             0         12.0       54.05   \n",
              "22     Milk Bikis             0         30.0      136.36   \n",
              "23     Milk Bikis             0         12.0      109.30   \n",
              "24           Rusk             0         12.0      109.29   \n",
              "25          50-50             0        720.0     3141.81   \n",
              "26        Bourbon             0        120.0     1027.34   \n",
              "27       Good Day             0        180.0      801.83   \n",
              "28     Marie Gold             0        672.0     2942.27   \n",
              "29     Marie Gold             0        432.0     3789.75   \n",
              "\n",
              "    Daily Income(Net Amount)  milk bikis daily unit   \n",
              "0                  171749.92                 14479.0  \n",
              "1                  270900.08                 20629.0  \n",
              "2                  170882.34                 11536.0  \n",
              "3                  134381.80                  8032.0  \n",
              "4                  140425.52                  5577.0  \n",
              "5                       0.00                     0.0  \n",
              "6                  148675.02                  6505.0  \n",
              "7                  247936.51                 25183.0  \n",
              "8                  127139.62                  4777.0  \n",
              "9                  111649.43                  8158.0  \n",
              "10                 163741.35                 14162.0  \n",
              "11                 317683.03                 20274.0  \n",
              "12                      0.00                     0.0  \n",
              "13                 151610.95                 12421.0  \n",
              "14                 181369.32                 16857.0  \n",
              "15                 193588.17                 19273.0  \n",
              "16                 221181.32                 17021.0  \n",
              "17                 158578.90                  7974.0  \n",
              "18                 284285.80                 19040.0  \n",
              "19                      0.00                     0.0  \n",
              "20                 110315.13                  4942.0  \n",
              "21                 221687.16                 17592.0  \n",
              "22                 193129.18                  8416.0  \n",
              "23                 125863.47                  7458.0  \n",
              "24                 161339.53                  9484.0  \n",
              "25                 154265.03                 11903.0  \n",
              "26                      0.00                     0.0  \n",
              "27                 296935.18                 21444.0  \n",
              "28                 200765.98                 16223.0  \n",
              "29                  71127.09                  4471.0  "
            ],
            "text/html": [
              "\n",
              "  <div id=\"df-6f16048d-3279-44c1-b72e-05d5ce2b4f49\">\n",
              "    <div class=\"colab-df-container\">\n",
              "      <div>\n",
              "<style scoped>\n",
              "    .dataframe tbody tr th:only-of-type {\n",
              "        vertical-align: middle;\n",
              "    }\n",
              "\n",
              "    .dataframe tbody tr th {\n",
              "        vertical-align: top;\n",
              "    }\n",
              "\n",
              "    .dataframe thead th {\n",
              "        text-align: right;\n",
              "    }\n",
              "</style>\n",
              "<table border=\"1\" class=\"dataframe\">\n",
              "  <thead>\n",
              "    <tr style=\"text-align: right;\">\n",
              "      <th></th>\n",
              "      <th>Brand Desc</th>\n",
              "      <th>Invoice Date</th>\n",
              "      <th>Invoice Qty</th>\n",
              "      <th>Net Amount</th>\n",
              "      <th>Daily Income(Net Amount)</th>\n",
              "      <th>milk bikis daily unit</th>\n",
              "    </tr>\n",
              "  </thead>\n",
              "  <tbody>\n",
              "    <tr>\n",
              "      <th>0</th>\n",
              "      <td>Milk Bikis</td>\n",
              "      <td>0</td>\n",
              "      <td>90.0</td>\n",
              "      <td>409.09</td>\n",
              "      <td>171749.92</td>\n",
              "      <td>14479.0</td>\n",
              "    </tr>\n",
              "    <tr>\n",
              "      <th>1</th>\n",
              "      <td>50-50</td>\n",
              "      <td>0</td>\n",
              "      <td>24.0</td>\n",
              "      <td>109.09</td>\n",
              "      <td>270900.08</td>\n",
              "      <td>20629.0</td>\n",
              "    </tr>\n",
              "    <tr>\n",
              "      <th>2</th>\n",
              "      <td>Tiger Glucose</td>\n",
              "      <td>0</td>\n",
              "      <td>48.0</td>\n",
              "      <td>131.14</td>\n",
              "      <td>170882.34</td>\n",
              "      <td>11536.0</td>\n",
              "    </tr>\n",
              "    <tr>\n",
              "      <th>3</th>\n",
              "      <td>Good Day</td>\n",
              "      <td>0</td>\n",
              "      <td>24.0</td>\n",
              "      <td>109.09</td>\n",
              "      <td>134381.80</td>\n",
              "      <td>8032.0</td>\n",
              "    </tr>\n",
              "    <tr>\n",
              "      <th>4</th>\n",
              "      <td>Tiger Creams</td>\n",
              "      <td>0</td>\n",
              "      <td>12.0</td>\n",
              "      <td>53.58</td>\n",
              "      <td>140425.52</td>\n",
              "      <td>5577.0</td>\n",
              "    </tr>\n",
              "    <tr>\n",
              "      <th>5</th>\n",
              "      <td>Milk Bikis</td>\n",
              "      <td>0</td>\n",
              "      <td>24.0</td>\n",
              "      <td>218.58</td>\n",
              "      <td>0.00</td>\n",
              "      <td>0.0</td>\n",
              "    </tr>\n",
              "    <tr>\n",
              "      <th>6</th>\n",
              "      <td>Milk Bikis</td>\n",
              "      <td>0</td>\n",
              "      <td>24.0</td>\n",
              "      <td>218.58</td>\n",
              "      <td>148675.02</td>\n",
              "      <td>6505.0</td>\n",
              "    </tr>\n",
              "    <tr>\n",
              "      <th>7</th>\n",
              "      <td>Milk Bikis</td>\n",
              "      <td>0</td>\n",
              "      <td>6.0</td>\n",
              "      <td>54.65</td>\n",
              "      <td>247936.51</td>\n",
              "      <td>25183.0</td>\n",
              "    </tr>\n",
              "    <tr>\n",
              "      <th>8</th>\n",
              "      <td>Bourbon</td>\n",
              "      <td>0</td>\n",
              "      <td>6.0</td>\n",
              "      <td>54.65</td>\n",
              "      <td>127139.62</td>\n",
              "      <td>4777.0</td>\n",
              "    </tr>\n",
              "    <tr>\n",
              "      <th>9</th>\n",
              "      <td>Treat</td>\n",
              "      <td>0</td>\n",
              "      <td>6.0</td>\n",
              "      <td>54.65</td>\n",
              "      <td>111649.43</td>\n",
              "      <td>8158.0</td>\n",
              "    </tr>\n",
              "    <tr>\n",
              "      <th>10</th>\n",
              "      <td>50-50</td>\n",
              "      <td>0</td>\n",
              "      <td>12.0</td>\n",
              "      <td>109.30</td>\n",
              "      <td>163741.35</td>\n",
              "      <td>14162.0</td>\n",
              "    </tr>\n",
              "    <tr>\n",
              "      <th>11</th>\n",
              "      <td>Good Day</td>\n",
              "      <td>0</td>\n",
              "      <td>24.0</td>\n",
              "      <td>109.09</td>\n",
              "      <td>317683.03</td>\n",
              "      <td>20274.0</td>\n",
              "    </tr>\n",
              "    <tr>\n",
              "      <th>12</th>\n",
              "      <td>Marie Gold</td>\n",
              "      <td>0</td>\n",
              "      <td>36.0</td>\n",
              "      <td>162.16</td>\n",
              "      <td>0.00</td>\n",
              "      <td>0.0</td>\n",
              "    </tr>\n",
              "    <tr>\n",
              "      <th>13</th>\n",
              "      <td>Milk Bikis</td>\n",
              "      <td>0</td>\n",
              "      <td>90.0</td>\n",
              "      <td>409.09</td>\n",
              "      <td>151610.95</td>\n",
              "      <td>12421.0</td>\n",
              "    </tr>\n",
              "    <tr>\n",
              "      <th>14</th>\n",
              "      <td>Milk Bikis</td>\n",
              "      <td>0</td>\n",
              "      <td>61.0</td>\n",
              "      <td>555.55</td>\n",
              "      <td>181369.32</td>\n",
              "      <td>16857.0</td>\n",
              "    </tr>\n",
              "    <tr>\n",
              "      <th>15</th>\n",
              "      <td>Tiger Glucose</td>\n",
              "      <td>0</td>\n",
              "      <td>72.0</td>\n",
              "      <td>196.71</td>\n",
              "      <td>193588.17</td>\n",
              "      <td>19273.0</td>\n",
              "    </tr>\n",
              "    <tr>\n",
              "      <th>16</th>\n",
              "      <td>Tiger Krunch</td>\n",
              "      <td>0</td>\n",
              "      <td>14.0</td>\n",
              "      <td>62.51</td>\n",
              "      <td>221181.32</td>\n",
              "      <td>17021.0</td>\n",
              "    </tr>\n",
              "    <tr>\n",
              "      <th>17</th>\n",
              "      <td>Tiger Krunch</td>\n",
              "      <td>0</td>\n",
              "      <td>10.0</td>\n",
              "      <td>44.63</td>\n",
              "      <td>158578.90</td>\n",
              "      <td>7974.0</td>\n",
              "    </tr>\n",
              "    <tr>\n",
              "      <th>18</th>\n",
              "      <td>50-50</td>\n",
              "      <td>0</td>\n",
              "      <td>12.0</td>\n",
              "      <td>54.55</td>\n",
              "      <td>284285.80</td>\n",
              "      <td>19040.0</td>\n",
              "    </tr>\n",
              "    <tr>\n",
              "      <th>19</th>\n",
              "      <td>50-50</td>\n",
              "      <td>0</td>\n",
              "      <td>6.0</td>\n",
              "      <td>54.65</td>\n",
              "      <td>0.00</td>\n",
              "      <td>0.0</td>\n",
              "    </tr>\n",
              "    <tr>\n",
              "      <th>20</th>\n",
              "      <td>Good Day</td>\n",
              "      <td>0</td>\n",
              "      <td>6.0</td>\n",
              "      <td>54.71</td>\n",
              "      <td>110315.13</td>\n",
              "      <td>4942.0</td>\n",
              "    </tr>\n",
              "    <tr>\n",
              "      <th>21</th>\n",
              "      <td>Marie Gold</td>\n",
              "      <td>0</td>\n",
              "      <td>12.0</td>\n",
              "      <td>54.05</td>\n",
              "      <td>221687.16</td>\n",
              "      <td>17592.0</td>\n",
              "    </tr>\n",
              "    <tr>\n",
              "      <th>22</th>\n",
              "      <td>Milk Bikis</td>\n",
              "      <td>0</td>\n",
              "      <td>30.0</td>\n",
              "      <td>136.36</td>\n",
              "      <td>193129.18</td>\n",
              "      <td>8416.0</td>\n",
              "    </tr>\n",
              "    <tr>\n",
              "      <th>23</th>\n",
              "      <td>Milk Bikis</td>\n",
              "      <td>0</td>\n",
              "      <td>12.0</td>\n",
              "      <td>109.30</td>\n",
              "      <td>125863.47</td>\n",
              "      <td>7458.0</td>\n",
              "    </tr>\n",
              "    <tr>\n",
              "      <th>24</th>\n",
              "      <td>Rusk</td>\n",
              "      <td>0</td>\n",
              "      <td>12.0</td>\n",
              "      <td>109.29</td>\n",
              "      <td>161339.53</td>\n",
              "      <td>9484.0</td>\n",
              "    </tr>\n",
              "    <tr>\n",
              "      <th>25</th>\n",
              "      <td>50-50</td>\n",
              "      <td>0</td>\n",
              "      <td>720.0</td>\n",
              "      <td>3141.81</td>\n",
              "      <td>154265.03</td>\n",
              "      <td>11903.0</td>\n",
              "    </tr>\n",
              "    <tr>\n",
              "      <th>26</th>\n",
              "      <td>Bourbon</td>\n",
              "      <td>0</td>\n",
              "      <td>120.0</td>\n",
              "      <td>1027.34</td>\n",
              "      <td>0.00</td>\n",
              "      <td>0.0</td>\n",
              "    </tr>\n",
              "    <tr>\n",
              "      <th>27</th>\n",
              "      <td>Good Day</td>\n",
              "      <td>0</td>\n",
              "      <td>180.0</td>\n",
              "      <td>801.83</td>\n",
              "      <td>296935.18</td>\n",
              "      <td>21444.0</td>\n",
              "    </tr>\n",
              "    <tr>\n",
              "      <th>28</th>\n",
              "      <td>Marie Gold</td>\n",
              "      <td>0</td>\n",
              "      <td>672.0</td>\n",
              "      <td>2942.27</td>\n",
              "      <td>200765.98</td>\n",
              "      <td>16223.0</td>\n",
              "    </tr>\n",
              "    <tr>\n",
              "      <th>29</th>\n",
              "      <td>Marie Gold</td>\n",
              "      <td>0</td>\n",
              "      <td>432.0</td>\n",
              "      <td>3789.75</td>\n",
              "      <td>71127.09</td>\n",
              "      <td>4471.0</td>\n",
              "    </tr>\n",
              "  </tbody>\n",
              "</table>\n",
              "</div>\n",
              "      <button class=\"colab-df-convert\" onclick=\"convertToInteractive('df-6f16048d-3279-44c1-b72e-05d5ce2b4f49')\"\n",
              "              title=\"Convert this dataframe to an interactive table.\"\n",
              "              style=\"display:none;\">\n",
              "        \n",
              "  <svg xmlns=\"http://www.w3.org/2000/svg\" height=\"24px\"viewBox=\"0 0 24 24\"\n",
              "       width=\"24px\">\n",
              "    <path d=\"M0 0h24v24H0V0z\" fill=\"none\"/>\n",
              "    <path d=\"M18.56 5.44l.94 2.06.94-2.06 2.06-.94-2.06-.94-.94-2.06-.94 2.06-2.06.94zm-11 1L8.5 8.5l.94-2.06 2.06-.94-2.06-.94L8.5 2.5l-.94 2.06-2.06.94zm10 10l.94 2.06.94-2.06 2.06-.94-2.06-.94-.94-2.06-.94 2.06-2.06.94z\"/><path d=\"M17.41 7.96l-1.37-1.37c-.4-.4-.92-.59-1.43-.59-.52 0-1.04.2-1.43.59L10.3 9.45l-7.72 7.72c-.78.78-.78 2.05 0 2.83L4 21.41c.39.39.9.59 1.41.59.51 0 1.02-.2 1.41-.59l7.78-7.78 2.81-2.81c.8-.78.8-2.07 0-2.86zM5.41 20L4 18.59l7.72-7.72 1.47 1.35L5.41 20z\"/>\n",
              "  </svg>\n",
              "      </button>\n",
              "      \n",
              "  <style>\n",
              "    .colab-df-container {\n",
              "      display:flex;\n",
              "      flex-wrap:wrap;\n",
              "      gap: 12px;\n",
              "    }\n",
              "\n",
              "    .colab-df-convert {\n",
              "      background-color: #E8F0FE;\n",
              "      border: none;\n",
              "      border-radius: 50%;\n",
              "      cursor: pointer;\n",
              "      display: none;\n",
              "      fill: #1967D2;\n",
              "      height: 32px;\n",
              "      padding: 0 0 0 0;\n",
              "      width: 32px;\n",
              "    }\n",
              "\n",
              "    .colab-df-convert:hover {\n",
              "      background-color: #E2EBFA;\n",
              "      box-shadow: 0px 1px 2px rgba(60, 64, 67, 0.3), 0px 1px 3px 1px rgba(60, 64, 67, 0.15);\n",
              "      fill: #174EA6;\n",
              "    }\n",
              "\n",
              "    [theme=dark] .colab-df-convert {\n",
              "      background-color: #3B4455;\n",
              "      fill: #D2E3FC;\n",
              "    }\n",
              "\n",
              "    [theme=dark] .colab-df-convert:hover {\n",
              "      background-color: #434B5C;\n",
              "      box-shadow: 0px 1px 3px 1px rgba(0, 0, 0, 0.15);\n",
              "      filter: drop-shadow(0px 1px 2px rgba(0, 0, 0, 0.3));\n",
              "      fill: #FFFFFF;\n",
              "    }\n",
              "  </style>\n",
              "\n",
              "      <script>\n",
              "        const buttonEl =\n",
              "          document.querySelector('#df-6f16048d-3279-44c1-b72e-05d5ce2b4f49 button.colab-df-convert');\n",
              "        buttonEl.style.display =\n",
              "          google.colab.kernel.accessAllowed ? 'block' : 'none';\n",
              "\n",
              "        async function convertToInteractive(key) {\n",
              "          const element = document.querySelector('#df-6f16048d-3279-44c1-b72e-05d5ce2b4f49');\n",
              "          const dataTable =\n",
              "            await google.colab.kernel.invokeFunction('convertToInteractive',\n",
              "                                                     [key], {});\n",
              "          if (!dataTable) return;\n",
              "\n",
              "          const docLinkHtml = 'Like what you see? Visit the ' +\n",
              "            '<a target=\"_blank\" href=https://colab.research.google.com/notebooks/data_table.ipynb>data table notebook</a>'\n",
              "            + ' to learn more about interactive tables.';\n",
              "          element.innerHTML = '';\n",
              "          dataTable['output_type'] = 'display_data';\n",
              "          await google.colab.output.renderOutput(dataTable, element);\n",
              "          const docLink = document.createElement('div');\n",
              "          docLink.innerHTML = docLinkHtml;\n",
              "          element.appendChild(docLink);\n",
              "        }\n",
              "      </script>\n",
              "    </div>\n",
              "  </div>\n",
              "  "
            ]
          },
          "metadata": {},
          "execution_count": 25
        }
      ]
    },
    {
      "cell_type": "markdown",
      "source": [
        "# Define input sequence(Time Series Data)\n",
        "\n"
      ],
      "metadata": {
        "id": "vx7efpG5jhqD"
      }
    },
    {
      "cell_type": "code",
      "source": [
        "\n",
        "timeseries_data = [171749.92,\n",
        "270900.08,\n",
        "170882.34,\n",
        "134381.8,\n",
        "140425.52,\n",
        "0,\n",
        "148675.02,\n",
        "247936.51,\n",
        "127139.62,\n",
        "111649.43,\n",
        "163741.35,\n",
        "317683.03,\n",
        "0,\n",
        "151610.95,\n",
        "181369.32,\n",
        "193588.17,\n",
        "221181.32,\n",
        "158578.9,\n",
        "284285.8,\n",
        "0,\n",
        "110315.13,\n",
        "221687.16,\n",
        "193129.18,\n",
        "125863.47,\n",
        "161339.53,\n",
        "154265.03,\n",
        "0,\n",
        "296935.18,\n",
        "200765.98,\n",
        "71127.09\n",
        "]\n",
        "# choose a number of time steps\n",
        "n_steps = 17\n",
        "# split into samples\n",
        "X, y = prepare_data(timeseries_data, n_steps)"
      ],
      "metadata": {
        "id": "Uojulu1pgV50"
      },
      "execution_count": 50,
      "outputs": []
    },
    {
      "cell_type": "code",
      "source": [
        "print(X),print(y)"
      ],
      "metadata": {
        "id": "SsHPkHMZgZmU",
        "colab": {
          "base_uri": "https://localhost:8080/"
        },
        "outputId": "495de988-3679-40ce-9787-9e60f8eb4436"
      },
      "execution_count": 51,
      "outputs": [
        {
          "output_type": "stream",
          "name": "stdout",
          "text": [
            "[[171749.92 270900.08 170882.34 134381.8  140425.52      0.   148675.02\n",
            "  247936.51 127139.62 111649.43 163741.35 317683.03      0.   151610.95\n",
            "  181369.32 193588.17 221181.32]\n",
            " [270900.08 170882.34 134381.8  140425.52      0.   148675.02 247936.51\n",
            "  127139.62 111649.43 163741.35 317683.03      0.   151610.95 181369.32\n",
            "  193588.17 221181.32 158578.9 ]\n",
            " [170882.34 134381.8  140425.52      0.   148675.02 247936.51 127139.62\n",
            "  111649.43 163741.35 317683.03      0.   151610.95 181369.32 193588.17\n",
            "  221181.32 158578.9  284285.8 ]\n",
            " [134381.8  140425.52      0.   148675.02 247936.51 127139.62 111649.43\n",
            "  163741.35 317683.03      0.   151610.95 181369.32 193588.17 221181.32\n",
            "  158578.9  284285.8       0.  ]\n",
            " [140425.52      0.   148675.02 247936.51 127139.62 111649.43 163741.35\n",
            "  317683.03      0.   151610.95 181369.32 193588.17 221181.32 158578.9\n",
            "  284285.8       0.   110315.13]\n",
            " [     0.   148675.02 247936.51 127139.62 111649.43 163741.35 317683.03\n",
            "       0.   151610.95 181369.32 193588.17 221181.32 158578.9  284285.8\n",
            "       0.   110315.13 221687.16]\n",
            " [148675.02 247936.51 127139.62 111649.43 163741.35 317683.03      0.\n",
            "  151610.95 181369.32 193588.17 221181.32 158578.9  284285.8       0.\n",
            "  110315.13 221687.16 193129.18]\n",
            " [247936.51 127139.62 111649.43 163741.35 317683.03      0.   151610.95\n",
            "  181369.32 193588.17 221181.32 158578.9  284285.8       0.   110315.13\n",
            "  221687.16 193129.18 125863.47]\n",
            " [127139.62 111649.43 163741.35 317683.03      0.   151610.95 181369.32\n",
            "  193588.17 221181.32 158578.9  284285.8       0.   110315.13 221687.16\n",
            "  193129.18 125863.47 161339.53]\n",
            " [111649.43 163741.35 317683.03      0.   151610.95 181369.32 193588.17\n",
            "  221181.32 158578.9  284285.8       0.   110315.13 221687.16 193129.18\n",
            "  125863.47 161339.53 154265.03]\n",
            " [163741.35 317683.03      0.   151610.95 181369.32 193588.17 221181.32\n",
            "  158578.9  284285.8       0.   110315.13 221687.16 193129.18 125863.47\n",
            "  161339.53 154265.03      0.  ]\n",
            " [317683.03      0.   151610.95 181369.32 193588.17 221181.32 158578.9\n",
            "  284285.8       0.   110315.13 221687.16 193129.18 125863.47 161339.53\n",
            "  154265.03      0.   296935.18]\n",
            " [     0.   151610.95 181369.32 193588.17 221181.32 158578.9  284285.8\n",
            "       0.   110315.13 221687.16 193129.18 125863.47 161339.53 154265.03\n",
            "       0.   296935.18 200765.98]]\n",
            "[158578.9  284285.8       0.   110315.13 221687.16 193129.18 125863.47\n",
            " 161339.53 154265.03      0.   296935.18 200765.98  71127.09]\n"
          ]
        },
        {
          "output_type": "execute_result",
          "data": {
            "text/plain": [
              "(None, None)"
            ]
          },
          "metadata": {},
          "execution_count": 51
        }
      ]
    },
    {
      "cell_type": "code",
      "source": [
        "X.shape"
      ],
      "metadata": {
        "id": "TPf1mwEQgb9N",
        "colab": {
          "base_uri": "https://localhost:8080/"
        },
        "outputId": "87b99d33-f3aa-4f2e-83b3-41a3b5d244b1"
      },
      "execution_count": 52,
      "outputs": [
        {
          "output_type": "execute_result",
          "data": {
            "text/plain": [
              "(13, 17)"
            ]
          },
          "metadata": {},
          "execution_count": 52
        }
      ]
    },
    {
      "cell_type": "markdown",
      "source": [
        "# Reshape from [samples, timesteps] into [samples, timesteps, features]"
      ],
      "metadata": {
        "id": "xX6LBGYFjzUc"
      }
    },
    {
      "cell_type": "code",
      "source": [
        "# Reshape from [samples, timesteps] into [samples, timesteps, features]\n",
        "n_features = 1\n",
        "X = X.reshape((X.shape[0], X.shape[1], n_features))"
      ],
      "metadata": {
        "id": "zuFFsRmageUe"
      },
      "execution_count": 53,
      "outputs": []
    },
    {
      "cell_type": "markdown",
      "source": [
        "# Define model"
      ],
      "metadata": {
        "id": "IgNupWoej3-l"
      }
    },
    {
      "cell_type": "code",
      "source": [
        "\n",
        "model = Sequential()\n",
        "model.add(LSTM(50, activation='relu', return_sequences=True, input_shape=(n_steps, n_features)))\n",
        "model.add(LSTM(50, activation='relu'))\n",
        "model.add(Dense(1))\n",
        "model.compile(optimizer='adam', loss='mse')\n",
        "# fit model\n",
        "model.fit(X, y, epochs=300, verbose=0)"
      ],
      "metadata": {
        "id": "GIBe06JRggek",
        "colab": {
          "base_uri": "https://localhost:8080/"
        },
        "outputId": "00373b14-5c54-4e23-e990-8f1062b04436"
      },
      "execution_count": 54,
      "outputs": [
        {
          "output_type": "execute_result",
          "data": {
            "text/plain": [
              "<keras.callbacks.History at 0x7f4047acbb10>"
            ]
          },
          "metadata": {},
          "execution_count": 54
        }
      ]
    },
    {
      "cell_type": "code",
      "source": [
        "# demonstrate prediction for next 10 days\n",
        "x_input = np.array([151610.95,\n",
        "181369.32,\n",
        "193588.17,\n",
        "221181.32,\n",
        "158578.9,\n",
        "284285.8,\n",
        "0,\n",
        "110315.13,\n",
        "221687.16,\n",
        "193129.18,\n",
        "125863.47,\n",
        "161339.53,\n",
        "154265.03,\n",
        "0,\n",
        "296935.18,\n",
        "200765.98,\n",
        "71127.09])\n",
        "temp_input=list(x_input)\n",
        "lst_output=[]\n",
        "i=0\n",
        "while(i<17):\n",
        "    \n",
        "    if(len(temp_input)>17):\n",
        "        x_input=np.array(temp_input[1:])\n",
        "        print(\"{} day input {}\".format(i,x_input))\n",
        "        #print(x_input)\n",
        "        x_input = x_input.reshape((1, n_steps, n_features))\n",
        "        #print(x_input)\n",
        "        yhat = model.predict(x_input, verbose=0)\n",
        "        print(\"{} day output {}\".format(i,yhat))\n",
        "        temp_input.append(yhat[0][0])\n",
        "        temp_input=temp_input[1:]\n",
        "        #print(temp_input)\n",
        "        lst_output.append(yhat[0][0])\n",
        "        i=i+1\n",
        "    else:\n",
        "        x_input = x_input.reshape((1, n_steps, n_features))\n",
        "        yhat = model.predict(x_input, verbose=0)\n",
        "        print(yhat[0])\n",
        "        temp_input.append(yhat[0][0])\n",
        "        lst_output.append(yhat[0][0])\n",
        "        i=i+1\n",
        "    \n",
        "\n",
        "print(lst_output)"
      ],
      "metadata": {
        "id": "8SoiJ3kWglRd",
        "colab": {
          "base_uri": "https://localhost:8080/"
        },
        "outputId": "5cf486ff-efb5-4142-c372-a4d6f35be753"
      },
      "execution_count": 55,
      "outputs": [
        {
          "output_type": "stream",
          "name": "stdout",
          "text": [
            "[268031.97]\n",
            "1 day input [181369.32    193588.17    221181.32    158578.9     284285.8\n",
            "      0.      110315.13    221687.16    193129.18    125863.47\n",
            " 161339.53    154265.03         0.      296935.18    200765.98\n",
            "  71127.09    268031.96875]\n",
            "1 day output [[114870.24]]\n",
            "2 day input [193588.17      221181.32      158578.9       284285.8\n",
            "      0.        110315.13      221687.16      193129.18\n",
            " 125863.47      161339.53      154265.03           0.\n",
            " 296935.18      200765.98       71127.09      268031.96875\n",
            " 114870.2421875]\n",
            "2 day output [[179370.73]]\n",
            "3 day input [221181.32      158578.9       284285.8            0.\n",
            " 110315.13      221687.16      193129.18      125863.47\n",
            " 161339.53      154265.03           0.        296935.18\n",
            " 200765.98       71127.09      268031.96875   114870.2421875\n",
            " 179370.734375 ]\n",
            "3 day output [[79243.89]]\n",
            "4 day input [158578.9       284285.8            0.        110315.13\n",
            " 221687.16      193129.18      125863.47      161339.53\n",
            " 154265.03           0.        296935.18      200765.98\n",
            "  71127.09      268031.96875   114870.2421875 179370.734375\n",
            "  79243.890625 ]\n",
            "4 day output [[208719.86]]\n",
            "5 day input [284285.8            0.        110315.13      221687.16\n",
            " 193129.18      125863.47      161339.53      154265.03\n",
            "      0.        296935.18      200765.98       71127.09\n",
            " 268031.96875   114870.2421875 179370.734375   79243.890625\n",
            " 208719.859375 ]\n",
            "5 day output [[179473.67]]\n",
            "6 day input [     0.        110315.13      221687.16      193129.18\n",
            " 125863.47      161339.53      154265.03           0.\n",
            " 296935.18      200765.98       71127.09      268031.96875\n",
            " 114870.2421875 179370.734375   79243.890625  208719.859375\n",
            " 179473.671875 ]\n",
            "6 day output [[29501.957]]\n",
            "7 day input [110315.13       221687.16       193129.18       125863.47\n",
            " 161339.53       154265.03            0.         296935.18\n",
            " 200765.98        71127.09       268031.96875    114870.2421875\n",
            " 179370.734375    79243.890625   208719.859375   179473.671875\n",
            "  29501.95703125]\n",
            "7 day output [[58197.395]]\n",
            "8 day input [221687.16       193129.18       125863.47       161339.53\n",
            " 154265.03            0.         296935.18       200765.98\n",
            "  71127.09       268031.96875    114870.2421875  179370.734375\n",
            "  79243.890625   208719.859375   179473.671875    29501.95703125\n",
            "  58197.39453125]\n",
            "8 day output [[124301.85]]\n",
            "9 day input [193129.18       125863.47       161339.53       154265.03\n",
            "      0.         296935.18       200765.98        71127.09\n",
            " 268031.96875    114870.2421875  179370.734375    79243.890625\n",
            " 208719.859375   179473.671875    29501.95703125  58197.39453125\n",
            " 124301.8515625 ]\n",
            "9 day output [[113170.53]]\n",
            "10 day input [125863.47       161339.53       154265.03            0.\n",
            " 296935.18       200765.98        71127.09       268031.96875\n",
            " 114870.2421875  179370.734375    79243.890625   208719.859375\n",
            " 179473.671875    29501.95703125  58197.39453125 124301.8515625\n",
            " 113170.53125   ]\n",
            "10 day output [[73312.87]]\n",
            "11 day input [161339.53       154265.03            0.         296935.18\n",
            " 200765.98        71127.09       268031.96875    114870.2421875\n",
            " 179370.734375    79243.890625   208719.859375   179473.671875\n",
            "  29501.95703125  58197.39453125 124301.8515625  113170.53125\n",
            "  73312.8671875 ]\n",
            "11 day output [[370715.28]]\n",
            "12 day input [154265.03            0.         296935.18       200765.98\n",
            "  71127.09       268031.96875    114870.2421875  179370.734375\n",
            "  79243.890625   208719.859375   179473.671875    29501.95703125\n",
            "  58197.39453125 124301.8515625  113170.53125     73312.8671875\n",
            " 370715.28125   ]\n",
            "12 day output [[61664.875]]\n",
            "13 day input [     0.         296935.18       200765.98        71127.09\n",
            " 268031.96875    114870.2421875  179370.734375    79243.890625\n",
            " 208719.859375   179473.671875    29501.95703125  58197.39453125\n",
            " 124301.8515625  113170.53125     73312.8671875  370715.28125\n",
            "  61664.875     ]\n",
            "13 day output [[273625.47]]\n",
            "14 day input [296935.18       200765.98        71127.09       268031.96875\n",
            " 114870.2421875  179370.734375    79243.890625   208719.859375\n",
            " 179473.671875    29501.95703125  58197.39453125 124301.8515625\n",
            " 113170.53125     73312.8671875  370715.28125     61664.875\n",
            " 273625.46875   ]\n",
            "14 day output [[336212.1]]\n",
            "15 day input [200765.98        71127.09       268031.96875    114870.2421875\n",
            " 179370.734375    79243.890625   208719.859375   179473.671875\n",
            "  29501.95703125  58197.39453125 124301.8515625  113170.53125\n",
            "  73312.8671875  370715.28125     61664.875      273625.46875\n",
            " 336212.09375   ]\n",
            "15 day output [[194505.89]]\n",
            "16 day input [ 71127.09       268031.96875    114870.2421875  179370.734375\n",
            "  79243.890625   208719.859375   179473.671875    29501.95703125\n",
            "  58197.39453125 124301.8515625  113170.53125     73312.8671875\n",
            " 370715.28125     61664.875      273625.46875    336212.09375\n",
            " 194505.890625  ]\n",
            "16 day output [[122377.36]]\n",
            "[268031.97, 114870.24, 179370.73, 79243.89, 208719.86, 179473.67, 29501.957, 58197.395, 124301.85, 113170.53, 73312.87, 370715.28, 61664.875, 273625.47, 336212.1, 194505.89, 122377.36]\n"
          ]
        }
      ]
    },
    {
      "cell_type": "code",
      "source": [
        "\n",
        "timeseries_data"
      ],
      "metadata": {
        "id": "pfoorWnmgoSk",
        "colab": {
          "base_uri": "https://localhost:8080/"
        },
        "outputId": "f1df90bb-007e-41b3-8e5a-71848c871673"
      },
      "execution_count": 56,
      "outputs": [
        {
          "output_type": "execute_result",
          "data": {
            "text/plain": [
              "[171749.92,\n",
              " 270900.08,\n",
              " 170882.34,\n",
              " 134381.8,\n",
              " 140425.52,\n",
              " 0,\n",
              " 148675.02,\n",
              " 247936.51,\n",
              " 127139.62,\n",
              " 111649.43,\n",
              " 163741.35,\n",
              " 317683.03,\n",
              " 0,\n",
              " 151610.95,\n",
              " 181369.32,\n",
              " 193588.17,\n",
              " 221181.32,\n",
              " 158578.9,\n",
              " 284285.8,\n",
              " 0,\n",
              " 110315.13,\n",
              " 221687.16,\n",
              " 193129.18,\n",
              " 125863.47,\n",
              " 161339.53,\n",
              " 154265.03,\n",
              " 0,\n",
              " 296935.18,\n",
              " 200765.98,\n",
              " 71127.09]"
            ]
          },
          "metadata": {},
          "execution_count": 56
        }
      ]
    },
    {
      "cell_type": "code",
      "source": [
        "len(timeseries_data)"
      ],
      "metadata": {
        "id": "rAK-meCygs0z",
        "colab": {
          "base_uri": "https://localhost:8080/"
        },
        "outputId": "ee28c074-3230-4d12-de4b-123333278454"
      },
      "execution_count": 57,
      "outputs": [
        {
          "output_type": "execute_result",
          "data": {
            "text/plain": [
              "30"
            ]
          },
          "metadata": {},
          "execution_count": 57
        }
      ]
    },
    {
      "cell_type": "code",
      "source": [
        "lst_output"
      ],
      "metadata": {
        "id": "9zaDxXgjgvCb",
        "colab": {
          "base_uri": "https://localhost:8080/"
        },
        "outputId": "e230fbd1-bf0b-40fc-d095-1eb1cea9c929"
      },
      "execution_count": 58,
      "outputs": [
        {
          "output_type": "execute_result",
          "data": {
            "text/plain": [
              "[268031.97,\n",
              " 114870.24,\n",
              " 179370.73,\n",
              " 79243.89,\n",
              " 208719.86,\n",
              " 179473.67,\n",
              " 29501.957,\n",
              " 58197.395,\n",
              " 124301.85,\n",
              " 113170.53,\n",
              " 73312.87,\n",
              " 370715.28,\n",
              " 61664.875,\n",
              " 273625.47,\n",
              " 336212.1,\n",
              " 194505.89,\n",
              " 122377.36]"
            ]
          },
          "metadata": {},
          "execution_count": 58
        }
      ]
    },
    {
      "cell_type": "code",
      "source": [
        "import matplotlib.pyplot as plt"
      ],
      "metadata": {
        "id": "oAeociFVgxGL"
      },
      "execution_count": 59,
      "outputs": []
    },
    {
      "cell_type": "code",
      "source": [
        "day_new=np.arange(0,30)\n",
        "day_pred=np.arange(30,47)"
      ],
      "metadata": {
        "id": "mWIF_DXugy8N"
      },
      "execution_count": 66,
      "outputs": []
    },
    {
      "cell_type": "markdown",
      "source": [
        "#Plotting the prediction"
      ],
      "metadata": {
        "id": "7-2PEYrjkeVz"
      }
    },
    {
      "cell_type": "code",
      "source": [
        "plt.plot(day_new,timeseries_data)\n",
        "plt.plot(day_pred,lst_output)"
      ],
      "metadata": {
        "id": "EQ_LuXxeg1Qc",
        "colab": {
          "base_uri": "https://localhost:8080/",
          "height": 282
        },
        "outputId": "83e168e6-af64-421b-b6b1-ad001e8d0217"
      },
      "execution_count": 67,
      "outputs": [
        {
          "output_type": "execute_result",
          "data": {
            "text/plain": [
              "[<matplotlib.lines.Line2D at 0x7f40490b17d0>]"
            ]
          },
          "metadata": {},
          "execution_count": 67
        },
        {
          "output_type": "display_data",
          "data": {
            "text/plain": [
              "<Figure size 432x288 with 1 Axes>"
            ],
            "image/png": "[encoded data removed]"
          },
          "metadata": {
            "needs_background": "light"
          }
        }
      ]
    },
    {
      "cell_type": "markdown",
      "source": [
        "Part 2"
      ],
      "metadata": {
        "id": "EwSqMGrPDD0q"
      }
    },
    {
      "cell_type": "markdown",
      "source": [
        "Finding the number of units of milk bikis biscuit would be required in th next 17 days(16-06-2022 to 03-07-2022)\n"
      ],
      "metadata": {
        "id": "Sto6HR-fCvi7"
      }
    },
    {
      "cell_type": "code",
      "source": [
        "df1=pd.read_excel(\"/content/duta.xlsx\")"
      ],
      "metadata": {
        "id": "4KW4Yreu5dXe"
      },
      "execution_count": 70,
      "outputs": []
    },
    {
      "cell_type": "code",
      "source": [
        "df1"
      ],
      "metadata": {
        "id": "WxvKAr3-5sDm",
        "colab": {
          "base_uri": "https://localhost:8080/",
          "height": 424
        },
        "outputId": "9e21429b-da71-4ec2-ef0f-3dc23117f224"
      },
      "execution_count": 71,
      "outputs": [
        {
          "output_type": "execute_result",
          "data": {
            "text/plain": [
              "          Brand Desc Invoice Date  Invoice Qty  Net Amount  \\\n",
              "0         Milk Bikis   2022-05-17         90.0      409.09   \n",
              "1              50-50   2022-05-17         24.0      109.09   \n",
              "2      Tiger Glucose   2022-05-17         48.0      131.14   \n",
              "3           Good Day   2022-05-17         24.0      109.09   \n",
              "4       Tiger Creams   2022-05-17         12.0       53.58   \n",
              "...              ...          ...          ...         ...   \n",
              "22629            NaN          NaT          NaN         NaN   \n",
              "22630            NaN          NaT          NaN         NaN   \n",
              "22631            NaN          NaT          NaN         NaN   \n",
              "22632            NaN          NaT          NaN         NaN   \n",
              "22633            NaN          NaT     735295.0  4731207.00   \n",
              "\n",
              "       Daily Income(Net Amount)  milk bikis daily unit   \n",
              "0                     171749.92                 14479.0  \n",
              "1                     270900.08                 20629.0  \n",
              "2                     170882.34                 11536.0  \n",
              "3                     134381.80                  8032.0  \n",
              "4                     140425.52                  5577.0  \n",
              "...                         ...                     ...  \n",
              "22629                       NaN                     NaN  \n",
              "22630                       NaN                     NaN  \n",
              "22631                       NaN                     NaN  \n",
              "22632                       NaN                     NaN  \n",
              "22633                       NaN                     NaN  \n",
              "\n",
              "[22634 rows x 6 columns]"
            ],
            "text/html": [
              "\n",
              "  <div id=\"df-3de66aca-6c96-40bf-80c3-5f73f5b25a57\">\n",
              "    <div class=\"colab-df-container\">\n",
              "      <div>\n",
              "<style scoped>\n",
              "    .dataframe tbody tr th:only-of-type {\n",
              "        vertical-align: middle;\n",
              "    }\n",
              "\n",
              "    .dataframe tbody tr th {\n",
              "        vertical-align: top;\n",
              "    }\n",
              "\n",
              "    .dataframe thead th {\n",
              "        text-align: right;\n",
              "    }\n",
              "</style>\n",
              "<table border=\"1\" class=\"dataframe\">\n",
              "  <thead>\n",
              "    <tr style=\"text-align: right;\">\n",
              "      <th></th>\n",
              "      <th>Brand Desc</th>\n",
              "      <th>Invoice Date</th>\n",
              "      <th>Invoice Qty</th>\n",
              "      <th>Net Amount</th>\n",
              "      <th>Daily Income(Net Amount)</th>\n",
              "      <th>milk bikis daily unit</th>\n",
              "    </tr>\n",
              "  </thead>\n",
              "  <tbody>\n",
              "    <tr>\n",
              "      <th>0</th>\n",
              "      <td>Milk Bikis</td>\n",
              "      <td>2022-05-17</td>\n",
              "      <td>90.0</td>\n",
              "      <td>409.09</td>\n",
              "      <td>171749.92</td>\n",
              "      <td>14479.0</td>\n",
              "    </tr>\n",
              "    <tr>\n",
              "      <th>1</th>\n",
              "      <td>50-50</td>\n",
              "      <td>2022-05-17</td>\n",
              "      <td>24.0</td>\n",
              "      <td>109.09</td>\n",
              "      <td>270900.08</td>\n",
              "      <td>20629.0</td>\n",
              "    </tr>\n",
              "    <tr>\n",
              "      <th>2</th>\n",
              "      <td>Tiger Glucose</td>\n",
              "      <td>2022-05-17</td>\n",
              "      <td>48.0</td>\n",
              "      <td>131.14</td>\n",
              "      <td>170882.34</td>\n",
              "      <td>11536.0</td>\n",
              "    </tr>\n",
              "    <tr>\n",
              "      <th>3</th>\n",
              "      <td>Good Day</td>\n",
              "      <td>2022-05-17</td>\n",
              "      <td>24.0</td>\n",
              "      <td>109.09</td>\n",
              "      <td>134381.80</td>\n",
              "      <td>8032.0</td>\n",
              "    </tr>\n",
              "    <tr>\n",
              "      <th>4</th>\n",
              "      <td>Tiger Creams</td>\n",
              "      <td>2022-05-17</td>\n",
              "      <td>12.0</td>\n",
              "      <td>53.58</td>\n",
              "      <td>140425.52</td>\n",
              "      <td>5577.0</td>\n",
              "    </tr>\n",
              "    <tr>\n",
              "      <th>...</th>\n",
              "      <td>...</td>\n",
              "      <td>...</td>\n",
              "      <td>...</td>\n",
              "      <td>...</td>\n",
              "      <td>...</td>\n",
              "      <td>...</td>\n",
              "    </tr>\n",
              "    <tr>\n",
              "      <th>22629</th>\n",
              "      <td>NaN</td>\n",
              "      <td>NaT</td>\n",
              "      <td>NaN</td>\n",
              "      <td>NaN</td>\n",
              "      <td>NaN</td>\n",
              "      <td>NaN</td>\n",
              "    </tr>\n",
              "    <tr>\n",
              "      <th>22630</th>\n",
              "      <td>NaN</td>\n",
              "      <td>NaT</td>\n",
              "      <td>NaN</td>\n",
              "      <td>NaN</td>\n",
              "      <td>NaN</td>\n",
              "      <td>NaN</td>\n",
              "    </tr>\n",
              "    <tr>\n",
              "      <th>22631</th>\n",
              "      <td>NaN</td>\n",
              "      <td>NaT</td>\n",
              "      <td>NaN</td>\n",
              "      <td>NaN</td>\n",
              "      <td>NaN</td>\n",
              "      <td>NaN</td>\n",
              "    </tr>\n",
              "    <tr>\n",
              "      <th>22632</th>\n",
              "      <td>NaN</td>\n",
              "      <td>NaT</td>\n",
              "      <td>NaN</td>\n",
              "      <td>NaN</td>\n",
              "      <td>NaN</td>\n",
              "      <td>NaN</td>\n",
              "    </tr>\n",
              "    <tr>\n",
              "      <th>22633</th>\n",
              "      <td>NaN</td>\n",
              "      <td>NaT</td>\n",
              "      <td>735295.0</td>\n",
              "      <td>4731207.00</td>\n",
              "      <td>NaN</td>\n",
              "      <td>NaN</td>\n",
              "    </tr>\n",
              "  </tbody>\n",
              "</table>\n",
              "<p>22634 rows × 6 columns</p>\n",
              "</div>\n",
              "      <button class=\"colab-df-convert\" onclick=\"convertToInteractive('df-3de66aca-6c96-40bf-80c3-5f73f5b25a57')\"\n",
              "              title=\"Convert this dataframe to an interactive table.\"\n",
              "              style=\"display:none;\">\n",
              "        \n",
              "  <svg xmlns=\"http://www.w3.org/2000/svg\" height=\"24px\"viewBox=\"0 0 24 24\"\n",
              "       width=\"24px\">\n",
              "    <path d=\"M0 0h24v24H0V0z\" fill=\"none\"/>\n",
              "    <path d=\"M18.56 5.44l.94 2.06.94-2.06 2.06-.94-2.06-.94-.94-2.06-.94 2.06-2.06.94zm-11 1L8.5 8.5l.94-2.06 2.06-.94-2.06-.94L8.5 2.5l-.94 2.06-2.06.94zm10 10l.94 2.06.94-2.06 2.06-.94-2.06-.94-.94-2.06-.94 2.06-2.06.94z\"/><path d=\"M17.41 7.96l-1.37-1.37c-.4-.4-.92-.59-1.43-.59-.52 0-1.04.2-1.43.59L10.3 9.45l-7.72 7.72c-.78.78-.78 2.05 0 2.83L4 21.41c.39.39.9.59 1.41.59.51 0 1.02-.2 1.41-.59l7.78-7.78 2.81-2.81c.8-.78.8-2.07 0-2.86zM5.41 20L4 18.59l7.72-7.72 1.47 1.35L5.41 20z\"/>\n",
              "  </svg>\n",
              "      </button>\n",
              "      \n",
              "  <style>\n",
              "    .colab-df-container {\n",
              "      display:flex;\n",
              "      flex-wrap:wrap;\n",
              "      gap: 12px;\n",
              "    }\n",
              "\n",
              "    .colab-df-convert {\n",
              "      background-color: #E8F0FE;\n",
              "      border: none;\n",
              "      border-radius: 50%;\n",
              "      cursor: pointer;\n",
              "      display: none;\n",
              "      fill: #1967D2;\n",
              "      height: 32px;\n",
              "      padding: 0 0 0 0;\n",
              "      width: 32px;\n",
              "    }\n",
              "\n",
              "    .colab-df-convert:hover {\n",
              "      background-color: #E2EBFA;\n",
              "      box-shadow: 0px 1px 2px rgba(60, 64, 67, 0.3), 0px 1px 3px 1px rgba(60, 64, 67, 0.15);\n",
              "      fill: #174EA6;\n",
              "    }\n",
              "\n",
              "    [theme=dark] .colab-df-convert {\n",
              "      background-color: #3B4455;\n",
              "      fill: #D2E3FC;\n",
              "    }\n",
              "\n",
              "    [theme=dark] .colab-df-convert:hover {\n",
              "      background-color: #434B5C;\n",
              "      box-shadow: 0px 1px 3px 1px rgba(0, 0, 0, 0.15);\n",
              "      filter: drop-shadow(0px 1px 2px rgba(0, 0, 0, 0.3));\n",
              "      fill: #FFFFFF;\n",
              "    }\n",
              "  </style>\n",
              "\n",
              "      <script>\n",
              "        const buttonEl =\n",
              "          document.querySelector('#df-3de66aca-6c96-40bf-80c3-5f73f5b25a57 button.colab-df-convert');\n",
              "        buttonEl.style.display =\n",
              "          google.colab.kernel.accessAllowed ? 'block' : 'none';\n",
              "\n",
              "        async function convertToInteractive(key) {\n",
              "          const element = document.querySelector('#df-3de66aca-6c96-40bf-80c3-5f73f5b25a57');\n",
              "          const dataTable =\n",
              "            await google.colab.kernel.invokeFunction('convertToInteractive',\n",
              "                                                     [key], {});\n",
              "          if (!dataTable) return;\n",
              "\n",
              "          const docLinkHtml = 'Like what you see? Visit the ' +\n",
              "            '<a target=\"_blank\" href=https://colab.research.google.com/notebooks/data_table.ipynb>data table notebook</a>'\n",
              "            + ' to learn more about interactive tables.';\n",
              "          element.innerHTML = '';\n",
              "          dataTable['output_type'] = 'display_data';\n",
              "          await google.colab.output.renderOutput(dataTable, element);\n",
              "          const docLink = document.createElement('div');\n",
              "          docLink.innerHTML = docLinkHtml;\n",
              "          element.appendChild(docLink);\n",
              "        }\n",
              "      </script>\n",
              "    </div>\n",
              "  </div>\n",
              "  "
            ]
          },
          "metadata": {},
          "execution_count": 71
        }
      ]
    },
    {
      "cell_type": "code",
      "source": [
        "# preparing independent and dependent features\n",
        "def prepare_data(timeseries_data, n_features):\n",
        "\tX, y =[],[]\n",
        "\tfor i in range(len(timeseries_data)):\n",
        "\t\t# find the end of this pattern\n",
        "\t\tend_ix = i + n_features\n",
        "\t\t# check if we are beyond the sequence\n",
        "\t\tif end_ix > len(timeseries_data)-1:\n",
        "\t\t\tbreak\n",
        "\t\t# gather input and output parts of the pattern\n",
        "\t\tseq_x, seq_y = timeseries_data[i:end_ix], timeseries_data[end_ix]\n",
        "\t\tX.append(seq_x)\n",
        "\t\ty.append(seq_y)\n",
        "\treturn np.array(X), np.array(y)"
      ],
      "metadata": {
        "id": "UNnP7g9K5tou"
      },
      "execution_count": 72,
      "outputs": []
    },
    {
      "cell_type": "code",
      "source": [
        "from sklearn import preprocessing\n",
        "  \n",
        "# label_encoder object knows how to understand word labels.\n",
        "label_encoder = preprocessing.LabelEncoder()\n",
        "  \n",
        "# Encode labels in column 'species'.\n",
        "df1['Invoice Date']= label_encoder.fit_transform(df1['Invoice Date'])\n",
        "  \n",
        "df1['Invoice Date'].unique()"
      ],
      "metadata": {
        "id": "c4EZgzBD5_F2",
        "colab": {
          "base_uri": "https://localhost:8080/"
        },
        "outputId": "865ae41f-2b9b-4e83-f43b-9d8993b5dcad"
      },
      "execution_count": 73,
      "outputs": [
        {
          "output_type": "execute_result",
          "data": {
            "text/plain": [
              "array([ 0,  1,  2,  3,  4,  5,  6,  7,  8,  9, 10, 11, 12, 13, 14, 15, 16,\n",
              "       17, 18, 19, 20, 21, 22, 23, 24, 25, 26, 27, 28, 29, 30])"
            ]
          },
          "metadata": {},
          "execution_count": 73
        }
      ]
    },
    {
      "cell_type": "code",
      "source": [
        "# define input sequence\n",
        "timeseries_data = [14479,\n",
        "20629,\n",
        "11536,\n",
        "8032,\n",
        "5577,\n",
        "0,\n",
        "6505,\n",
        "25183,\n",
        "4777,\n",
        "8158,\n",
        "14162,\n",
        "20274,\n",
        "0,\n",
        "12421,\n",
        "16857,\n",
        "19273,\n",
        "17021,\n",
        "7974,\n",
        "19040,\n",
        "0,\n",
        "4942,\n",
        "17592,\n",
        "8416,\n",
        "7458,\n",
        "9484,\n",
        "11903,\n",
        "0,\n",
        "21444,\n",
        "16223,\n",
        "4471]\n",
        "\n",
        "# choose a number of time steps\n",
        "n_steps = 17\n",
        "# split into samples\n",
        "X, y = prepare_data(timeseries_data, n_steps)"
      ],
      "metadata": {
        "id": "ZQeOdC0B6KsX"
      },
      "execution_count": 74,
      "outputs": []
    },
    {
      "cell_type": "code",
      "source": [
        "print(X),print(y)"
      ],
      "metadata": {
        "id": "ZWpaAJTe9_Y1",
        "colab": {
          "base_uri": "https://localhost:8080/"
        },
        "outputId": "1de40820-d5ac-42ee-c63a-c9a3d7f61eea"
      },
      "execution_count": 76,
      "outputs": [
        {
          "output_type": "stream",
          "name": "stdout",
          "text": [
            "[[14479 20629 11536  8032  5577     0  6505 25183  4777  8158 14162 20274\n",
            "      0 12421 16857 19273 17021]\n",
            " [20629 11536  8032  5577     0  6505 25183  4777  8158 14162 20274     0\n",
            "  12421 16857 19273 17021  7974]\n",
            " [11536  8032  5577     0  6505 25183  4777  8158 14162 20274     0 12421\n",
            "  16857 19273 17021  7974 19040]\n",
            " [ 8032  5577     0  6505 25183  4777  8158 14162 20274     0 12421 16857\n",
            "  19273 17021  7974 19040     0]\n",
            " [ 5577     0  6505 25183  4777  8158 14162 20274     0 12421 16857 19273\n",
            "  17021  7974 19040     0  4942]\n",
            " [    0  6505 25183  4777  8158 14162 20274     0 12421 16857 19273 17021\n",
            "   7974 19040     0  4942 17592]\n",
            " [ 6505 25183  4777  8158 14162 20274     0 12421 16857 19273 17021  7974\n",
            "  19040     0  4942 17592  8416]\n",
            " [25183  4777  8158 14162 20274     0 12421 16857 19273 17021  7974 19040\n",
            "      0  4942 17592  8416  7458]\n",
            " [ 4777  8158 14162 20274     0 12421 16857 19273 17021  7974 19040     0\n",
            "   4942 17592  8416  7458  9484]\n",
            " [ 8158 14162 20274     0 12421 16857 19273 17021  7974 19040     0  4942\n",
            "  17592  8416  7458  9484 11903]\n",
            " [14162 20274     0 12421 16857 19273 17021  7974 19040     0  4942 17592\n",
            "   8416  7458  9484 11903     0]\n",
            " [20274     0 12421 16857 19273 17021  7974 19040     0  4942 17592  8416\n",
            "   7458  9484 11903     0 21444]\n",
            " [    0 12421 16857 19273 17021  7974 19040     0  4942 17592  8416  7458\n",
            "   9484 11903     0 21444 16223]]\n",
            "[ 7974 19040     0  4942 17592  8416  7458  9484 11903     0 21444 16223\n",
            "  4471]\n"
          ]
        },
        {
          "output_type": "execute_result",
          "data": {
            "text/plain": [
              "(None, None)"
            ]
          },
          "metadata": {},
          "execution_count": 76
        }
      ]
    },
    {
      "cell_type": "code",
      "source": [
        "# reshape from [samples, timesteps] into [samples, timesteps, features]\n",
        "n_features = 1\n",
        "X = X.reshape((X.shape[0], X.shape[1], n_features))"
      ],
      "metadata": {
        "id": "KG_ZfK6nCtmE"
      },
      "execution_count": 77,
      "outputs": []
    },
    {
      "cell_type": "code",
      "source": [
        "model = Sequential()\n",
        "model.add(LSTM(50, activation='relu', return_sequences=True, input_shape=(n_steps, n_features)))\n",
        "model.add(LSTM(50, activation='relu'))\n",
        "model.add(Dense(1))\n",
        "model.compile(optimizer='adam', loss='mse')\n",
        "# fit model\n",
        "model.fit(X, y, epochs=300, verbose=0)"
      ],
      "metadata": {
        "id": "_zH61YWRDc9T",
        "colab": {
          "base_uri": "https://localhost:8080/"
        },
        "outputId": "b9f6d86b-d0ff-48c1-bfc9-dcc0e3dd5586"
      },
      "execution_count": 78,
      "outputs": [
        {
          "output_type": "execute_result",
          "data": {
            "text/plain": [
              "<keras.callbacks.History at 0x7f404bb1fa10>"
            ]
          },
          "metadata": {},
          "execution_count": 78
        }
      ]
    },
    {
      "cell_type": "code",
      "source": [
        "x_input = np.array([12421,\n",
        "16857,\n",
        "19273,\n",
        "17021,\n",
        "7974,\n",
        "19040,\n",
        "0,\n",
        "4942,\n",
        "17592,\n",
        "8416,\n",
        "7458,\n",
        "9484,\n",
        "11903,\n",
        "0,\n",
        "21444,\n",
        "16223,\n",
        "4471])\n",
        "temp_input=list(x_input)\n",
        "lst_output=[]\n",
        "i=0\n",
        "while(i<17):\n",
        "    \n",
        "    if(len(temp_input)>17):\n",
        "        x_input=np.array(temp_input[1:])\n",
        "        print(\"{} day input {}\".format(i,x_input))\n",
        "        #print(x_input)\n",
        "        x_input = x_input.reshape((1, n_steps, n_features))\n",
        "        #print(x_input)\n",
        "        yhat = model.predict(x_input, verbose=0)\n",
        "        print(\"{} day output {}\".format(i,yhat))\n",
        "        temp_input.append(yhat[0][0])\n",
        "        temp_input=temp_input[1:]\n",
        "        #print(temp_input)\n",
        "        lst_output.append(yhat[0][0])\n",
        "        i=i+1\n",
        "    else:\n",
        "        x_input = x_input.reshape((1, n_steps, n_features))\n",
        "        yhat = model.predict(x_input, verbose=0)\n",
        "        print(yhat[0])\n",
        "        temp_input.append(yhat[0][0])\n",
        "        lst_output.append(yhat[0][0])\n",
        "        i=i+1\n",
        "    \n",
        "\n",
        "print(lst_output)"
      ],
      "metadata": {
        "id": "rEg2iwz1Djur",
        "colab": {
          "base_uri": "https://localhost:8080/"
        },
        "outputId": "f2b66ce8-1fd3-4d14-8d07-6c969155fbce"
      },
      "execution_count": 79,
      "outputs": [
        {
          "output_type": "stream",
          "name": "stdout",
          "text": [
            "[12708.262]\n",
            "1 day input [16857.         19273.         17021.          7974.\n",
            " 19040.             0.          4942.         17592.\n",
            "  8416.          7458.          9484.         11903.\n",
            "     0.         21444.         16223.          4471.\n",
            " 12708.26171875]\n",
            "1 day output [[12910.937]]\n",
            "2 day input [19273.         17021.          7974.         19040.\n",
            "     0.          4942.         17592.          8416.\n",
            "  7458.          9484.         11903.             0.\n",
            " 21444.         16223.          4471.         12708.26171875\n",
            " 12910.93652344]\n",
            "2 day output [[5524.98]]\n",
            "3 day input [17021.          7974.         19040.             0.\n",
            "  4942.         17592.          8416.          7458.\n",
            "  9484.         11903.             0.         21444.\n",
            " 16223.          4471.         12708.26171875 12910.93652344\n",
            "  5524.97998047]\n",
            "3 day output [[6339.741]]\n",
            "4 day input [ 7974.         19040.             0.          4942.\n",
            " 17592.          8416.          7458.          9484.\n",
            " 11903.             0.         21444.         16223.\n",
            "  4471.         12708.26171875 12910.93652344  5524.97998047\n",
            "  6339.74121094]\n",
            "4 day output [[10831.726]]\n",
            "5 day input [19040.             0.          4942.         17592.\n",
            "  8416.          7458.          9484.         11903.\n",
            "     0.         21444.         16223.          4471.\n",
            " 12708.26171875 12910.93652344  5524.97998047  6339.74121094\n",
            " 10831.72558594]\n",
            "5 day output [[10086.001]]\n",
            "6 day input [    0.          4942.         17592.          8416.\n",
            "  7458.          9484.         11903.             0.\n",
            " 21444.         16223.          4471.         12708.26171875\n",
            " 12910.93652344  5524.97998047  6339.74121094 10831.72558594\n",
            " 10086.00097656]\n",
            "6 day output [[10001.946]]\n",
            "7 day input [ 4942.         17592.          8416.          7458.\n",
            "  9484.         11903.             0.         21444.\n",
            " 16223.          4471.         12708.26171875 12910.93652344\n",
            "  5524.97998047  6339.74121094 10831.72558594 10086.00097656\n",
            " 10001.94628906]\n",
            "7 day output [[8883.713]]\n",
            "8 day input [17592.          8416.          7458.          9484.\n",
            " 11903.             0.         21444.         16223.\n",
            "  4471.         12708.26171875 12910.93652344  5524.97998047\n",
            "  6339.74121094 10831.72558594 10086.00097656 10001.94628906\n",
            "  8883.71289062]\n",
            "8 day output [[9380.633]]\n",
            "9 day input [ 8416.          7458.          9484.         11903.\n",
            "     0.         21444.         16223.          4471.\n",
            " 12708.26171875 12910.93652344  5524.97998047  6339.74121094\n",
            " 10831.72558594 10086.00097656 10001.94628906  8883.71289062\n",
            "  9380.6328125 ]\n",
            "9 day output [[5953.9893]]\n",
            "10 day input [ 7458.          9484.         11903.             0.\n",
            " 21444.         16223.          4471.         12708.26171875\n",
            " 12910.93652344  5524.97998047  6339.74121094 10831.72558594\n",
            " 10086.00097656 10001.94628906  8883.71289062  9380.6328125\n",
            "  5953.98925781]\n",
            "10 day output [[7505.349]]\n",
            "11 day input [ 9484.         11903.             0.         21444.\n",
            " 16223.          4471.         12708.26171875 12910.93652344\n",
            "  5524.97998047  6339.74121094 10831.72558594 10086.00097656\n",
            " 10001.94628906  8883.71289062  9380.6328125   5953.98925781\n",
            "  7505.34912109]\n",
            "11 day output [[10979.156]]\n",
            "12 day input [11903.             0.         21444.         16223.\n",
            "  4471.         12708.26171875 12910.93652344  5524.97998047\n",
            "  6339.74121094 10831.72558594 10086.00097656 10001.94628906\n",
            "  8883.71289062  9380.6328125   5953.98925781  7505.34912109\n",
            " 10979.15625   ]\n",
            "12 day output [[6884.9917]]\n",
            "13 day input [    0.         21444.         16223.          4471.\n",
            " 12708.26171875 12910.93652344  5524.97998047  6339.74121094\n",
            " 10831.72558594 10086.00097656 10001.94628906  8883.71289062\n",
            "  9380.6328125   5953.98925781  7505.34912109 10979.15625\n",
            "  6884.99169922]\n",
            "13 day output [[5893.2417]]\n",
            "14 day input [21444.         16223.          4471.         12708.26171875\n",
            " 12910.93652344  5524.97998047  6339.74121094 10831.72558594\n",
            " 10086.00097656 10001.94628906  8883.71289062  9380.6328125\n",
            "  5953.98925781  7505.34912109 10979.15625     6884.99169922\n",
            "  5893.24169922]\n",
            "14 day output [[6076.287]]\n",
            "15 day input [16223.          4471.         12708.26171875 12910.93652344\n",
            "  5524.97998047  6339.74121094 10831.72558594 10086.00097656\n",
            " 10001.94628906  8883.71289062  9380.6328125   5953.98925781\n",
            "  7505.34912109 10979.15625     6884.99169922  5893.24169922\n",
            "  6076.28710938]\n",
            "15 day output [[6458.333]]\n",
            "16 day input [ 4471.         12708.26171875 12910.93652344  5524.97998047\n",
            "  6339.74121094 10831.72558594 10086.00097656 10001.94628906\n",
            "  8883.71289062  9380.6328125   5953.98925781  7505.34912109\n",
            " 10979.15625     6884.99169922  5893.24169922  6076.28710938\n",
            "  6458.33300781]\n",
            "16 day output [[625.2017]]\n",
            "[12708.262, 12910.937, 5524.98, 6339.741, 10831.726, 10086.001, 10001.946, 8883.713, 9380.633, 5953.9893, 7505.349, 10979.156, 6884.9917, 5893.2417, 6076.287, 6458.333, 625.2017]\n"
          ]
        }
      ]
    },
    {
      "cell_type": "code",
      "source": [
        "day_new1=np.arange(0,30)\n",
        "day_pred1=np.arange(30,47)"
      ],
      "metadata": {
        "id": "MZb9rYS2ELID"
      },
      "execution_count": 80,
      "outputs": []
    },
    {
      "cell_type": "code",
      "source": [
        "plt.plot(day_new1,timeseries_data)\n",
        "plt.plot(day_pred1,lst_output)"
      ],
      "metadata": {
        "id": "3YrcGvrFETWi",
        "colab": {
          "base_uri": "https://localhost:8080/",
          "height": 282
        },
        "outputId": "3238cd1c-bee1-418c-9e83-f676011ec42b"
      },
      "execution_count": 81,
      "outputs": [
        {
          "output_type": "execute_result",
          "data": {
            "text/plain": [
              "[<matplotlib.lines.Line2D at 0x7f4046bb77d0>]"
            ]
          },
          "metadata": {},
          "execution_count": 81
        },
        {
          "output_type": "display_data",
          "data": {
            "text/plain": [
              "<Figure size 432x288 with 1 Axes>"
            ],
            "image/png": "[encoded data removed]"
          },
          "metadata": {
            "needs_background": "light"
          }
        }
      ]
    },
    {
      "cell_type": "markdown",
      "source": [
        "Done"
      ],
      "metadata": {
        "id": "YeOu4yJEMPLh"
      }
    }
  ]
}